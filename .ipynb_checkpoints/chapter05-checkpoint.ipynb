{
 "cells": [
  {
   "cell_type": "code",
   "execution_count": null,
   "metadata": {
    "collapsed": true
   },
   "outputs": [],
   "source": [
    "from tensorflow.examples.tutorials.mnist import input_data\n",
    "# 载入MNIST数据集，如果指定地址/path/to/MNIST_data 下没有已经下载好的数据，那么TensorFlow会自动下载\n",
    "mnist = input_data.read_data_sets(\"/path/to/MNIST_data\", one_hot=True)\n",
    "# 打印Training data\n",
    "print(\"Training data size：{}\".format(mnist.train.num_examples))\n",
    "print(\"Validating data size:{}\".format(mnist.validation.num_examples))\n",
    "print(\"Testing data size:{}\".format(mnist.test.num_examples))\n",
    "print(\"Example training data:{}\".format(mnist.train.images[0]))\n",
    "print(\"Example training data label:{}\".format(mnist.train.labels[0]))"
   ]
  },
  {
   "cell_type": "code",
   "execution_count": null,
   "metadata": {
    "collapsed": true
   },
   "outputs": [],
   "source": [
    "batch_size = 100\n",
    "xs, ys = mnist.train.next_batch(batch_size)\n",
    "# 从train的集合中选取batch_size个训练数据\n",
    "print(\"X shape:{}\".format(xs.shape))\n",
    "print(\"Y shape:{}\".format(ys.shape))"
   ]
  },
  {
   "cell_type": "code",
   "execution_count": null,
   "metadata": {
    "collapsed": true
   },
   "outputs": [],
   "source": [
    "import tensorflow as tf\n",
    "from tensorflow.examples.tutorials.mnist import input_data\n",
    "\n",
    "# MNIST数据集相关的常数\n",
    "INPUT_NODE = 784 #输入层的节点数。对于MNIST数据集，这个就等于图片的像素。\n",
    "OUTPUT_NODE=10 #输出层的节点数。这个等于类别的数目。因为在MNIST数据集中需要区分的是0~9这10个数字，所以这里输出层的节点数为10\n",
    "# 配置神经网络的参数\n",
    "LAYER1_NODE = 500 # 隐藏层节点数。这里使用只有一个隐藏层的网络结构作为样例。这个隐藏层有500个节点。\n",
    "BATCH_SIZE = 100 # 一个训练batch中的训练数据个数。数字越小时，训练过程越接近随机梯度下降；数字越大时，训练越接近梯度下降\n",
    "\n",
    "LEARNING_RATE_BASE = 0.8 # 基础学习率\n",
    "LEARNING_RATE_DECAY = 0.99 # 学习率的衰减率\n",
    "REGULARIZATION_RATE = 0.0001 # 描述模型复杂度的正则化项在损失函数中的系数\n",
    "TRAINING_STEPS = 30000 # 训练轮数\n",
    "MOVING_AVERAGE_DECAY = 0.99 #滑动平均衰减率\n",
    "\n",
    "# 一个辅助函数，给定神经网络的输入和所有参数，计算神经网络的前向传播结果。在这里定义了一个使用ReLu激活函数的三层\n",
    "# 全连接神经网络。通过加入隐藏层实现了多层网络结构，通过ReLU激活函数实现了去线性化。在这个函数中也支持传入用于计算参数平均值的类，\n",
    "# 这样方便在测试时使用滑动平均模型。\n",
    "def inference(input_tensor, avg_class, weights1, biases1, weights2, biases2):\n",
    "    # 当没有提供滑动平均类时，直接使用参数当前的取值。\n",
    "    if avg_class == None:\n",
    "        # 计算隐藏层的前向传播结果，这里使用了ReLU激活函数\n",
    "        layer1 = tf.nn.relu(tf.matmul(input_tensor, weights1) + biases1)\n",
    "        # 计算输出层的前向传播结果。因为在计算损失函数时会一并计算softmax函数，\n",
    "        # 所以这里不需要加入激活函数。而且不加入Softmax不会影响预测结果。因为预测时\n",
    "        # 使用的是不同类别对应节点输出值的相对大小，有没有Softmax层对最后分类结果的\n",
    "        # 计算没有影响。于是在计算整个神经网络的前向传播时可以不加入最后的Softmax层。\n",
    "        return tf.matmul(layer1, weights2) + biases2\n",
    "    else:\n",
    "        # 首先使用avg_class.average函数来计算得出变量的滑动平均值\n",
    "        # 然后再计算相应的神经网络前向传播结果。\n",
    "        layer1 = tf.nn.relu(tf.matmul(input_tensor, avg_class.average(weights1)) + avg_class.average(biases1))\n",
    "        \n",
    "        return tf.matmul(layer1, avg_class.average(weights2)) + avg_class.average(biases2)\n",
    "\n",
    "# 训练模型的过程\n",
    "def train(mnist):\n",
    "    x = tf.placeholder(tf.float32, [None, INPUT_NODE], name = 'x-input')\n",
    "    y_ = tf.placeholder(tf.float32, [None, OUTPUT_NODE], name = 'y-input')\n",
    "    # 生成隐藏层的参数\n",
    "    weights1 = tf.Variable(tf.truncated_normal([INPUT_NODE,LAYER1_NODE],stddev=0.1))\n",
    "    biases1 = tf.Variable(tf.constant(0.1,shape=[LAYER1_NODE]))\n",
    "    # 生成输出层的参数\n",
    "    weights2 = tf.Variable(tf.truncated_normal([LAYER1_NODE,OUTPUT_NODE],stddev=0.1))\n",
    "    biases2 = tf.Variable(tf.constant(0.1,shape=[OUTPUT_NODE]))\n",
    "    \n",
    "    #计算在当前参数下神经网络前向传播的结果。这里给出的用于计算滑动平均的类为None，\n",
    "    # 所有函数不会使用参数的滑动平均值\n",
    "    y = inference(x,None,weights1,biases1,weights2,biases2)\n",
    "    # 定义存储训练轮数的变量。这个变量不需要计算滑动平均值，所以这里指定这个变量为\n",
    "    # 不可训练的变量（trainable=False）。在使用TensorFlow训练神经网络时，\n",
    "    # 一般会将代表训练轮数的变量指定会不可训练的参数\n",
    "    gloabal_step = tf.Variable(0,trainable=False)\n",
    "    \n",
    "    # 给定滑动平均衰减率和训练轮数的变量，初始化滑动平均类。\n",
    "    # 在上一章介绍过给定训练轮数的变量可以加快训练早期变量的更新速度\n",
    "    variable_averages = tf.train.ExponentialMovingAverage(MOVING_AVERAGE_DECAY,global_step)\n",
    "    \n",
    "    # 在所有代表神经网络参数的变量上使用滑动平均。其他辅助变量（比如global_step）就不需要了。\n",
    "    # tf.trainable_variables返回的就是图上集合\n",
    "    # GraphKeys.TRAINABLE_VARIABLES中的元素。这个集合的元素就是所有没有指定trainable=False的参数。\n",
    "    variables_average_op = variable_averages.apply(tf.trainable_variables())\n",
    "    # 计算使用了滑动平均之后的前向传播结果。上一章中介绍过滑动平均不会改变变量本身的取值，而是会维护一个影子\n",
    "    # 变量来记录滑动平均值。所以当需要使用这个滑动平均值时，需要明确调用average函数。\n",
    "    average_y = inference(x, variable_averages, weights1, biases1, weights2, biases2)\n",
    "    # 计算交叉熵作为刻画预测值和真实值之间差距的损失函数。\n",
    "    #这里使用了TensorFlow中提供的sparse_softmax_cross_entropy_with_logits函数来计算交叉熵。当分类问题只有\n",
    "    #一个答案时，可以使用这个函数来加速交叉熵的计算。MNIST问题的图片中只包含了0~9中的数字，所以可以使用\n",
    "    #这个函数来计算交叉熵损失。这个函数的第一个参数是神经网络不包括Softmax层的前向传播结果，\n",
    "    #第二个是训练数据的正确答案。因为标准答案是一个长度为10的一维数组，而该函数需要提供的是一个正确答案的数字，\n",
    "    #所以需要使用tf.argmax函数来得到正确答案对应的类别编号。\n",
    "    cross_entropy = tf.nn.sparse_softmax_cross_entorpy_with_logits(y, tf.argmax(y_,1))\n",
    "    # 计算当前batch中所有样例的交叉熵平均值。\n",
    "    cross_entropy_mean = tf.reduce_mean(cross_entroy)\n",
    "    # 计算L2正则化损失函数\n",
    "    regularizer = tf.contrib.layers.l2_regularizer(REGULARIZATION_RATE)\n",
    "    # 计算模型的正则化损失。一般只计算神经网络边上权重的正则化损失，而不使用偏置项。\n",
    "    regularization = regularizer(weights1) + regularizer(weights2)\n",
    "    # 总损失等于交叉熵损失和正则化损失的和。\n",
    "    loss = cross_entropy_mean + regularization\n",
    "    # 设置指数衰减的学习率\n",
    "    "
   ]
  }
 ],
 "metadata": {
  "kernelspec": {
   "display_name": "Python 3",
   "language": "python",
   "name": "python3"
  },
  "language_info": {
   "codemirror_mode": {
    "name": "ipython",
    "version": 3
   },
   "file_extension": ".py",
   "mimetype": "text/x-python",
   "name": "python",
   "nbconvert_exporter": "python",
   "pygments_lexer": "ipython3",
   "version": "3.6.1"
  }
 },
 "nbformat": 4,
 "nbformat_minor": 2
}
