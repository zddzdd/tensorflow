{
 "cells": [
  {
   "cell_type": "code",
   "execution_count": null,
   "metadata": {
    "collapsed": true
   },
   "outputs": [],
   "source": [
    "# 根据输入数据placeholder的格式，输入一个四维矩阵\n",
    "x = tf.placeholder(tf.float32, \n",
    "                   [BATCH_SIZE,    # 第一维表示一个batch中样例的个数。\n",
    "                    mnist_inference.IMAGE_SIZE,# 第二维和第三维表示图片的尺寸。\n",
    "                    mnist_inference.IMAGE_SIZE,\n",
    "                    mnist_inference.NUM_CHANNELS], # 第四维表示图片的深度，对于RBG格式的图片，深度为5.\n",
    "      name='x-input')\n",
    "\n",
    "# 类似地将输入的训练数据格式调整为一个四维矩阵，并将这个调整后的数据传入sess.run过程。\n",
    "reshaped_xs = np.reshape(xs, (BATCH_SIZE,\n",
    "                              mnist_inference.IMAGE_SIZE,\n",
    "                              mnist_inference.IMAGE_SIZE,\n",
    "                              mnist_inference.NUM_CHANNELS))\n"
   ]
  },
  {
   "cell_type": "code",
   "execution_count": null,
   "metadata": {
    "collapsed": true
   },
   "outputs": [],
   "source": []
  }
 ],
 "metadata": {
  "kernelspec": {
   "display_name": "Python 3",
   "language": "python",
   "name": "python3"
  },
  "language_info": {
   "codemirror_mode": {
    "name": "ipython",
    "version": 3
   },
   "file_extension": ".py",
   "mimetype": "text/x-python",
   "name": "python",
   "nbconvert_exporter": "python",
   "pygments_lexer": "ipython3",
   "version": "3.6.8"
  }
 },
 "nbformat": 4,
 "nbformat_minor": 2
}
